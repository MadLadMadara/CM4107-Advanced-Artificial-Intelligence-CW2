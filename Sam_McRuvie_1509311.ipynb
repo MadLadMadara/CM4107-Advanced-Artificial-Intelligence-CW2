{
 "cells": [
  {
   "attachments": {},
   "cell_type": "markdown",
   "metadata": {},
   "source": [
    "# CM4107 Advanced Artificial Intelligence\n",
    "## Course work 2\n",
    "### Sam AJ McRuvie\n",
    "### 1509311"
   ]
  },
  {
   "cell_type": "code",
   "execution_count": 15,
   "metadata": {},
   "outputs": [
    {
     "name": "stdout",
     "output_type": "stream",
     "text": [
      "3\n"
     ]
    }
   ],
   "source": [
    "x = 2\n",
    "\n",
    "def add_one(x):\n",
    "    if not isinstance(x, (int, float)):\n",
    "        raise TypeError(\"x must be numeric\")\n",
    "    return x + 1\n",
    "\n",
    "y = add_one(x)\n",
    "print(y)"
   ]
  }
 ],
 "metadata": {
  "kernelspec": {
   "display_name": "Python 3",
   "language": "python",
   "name": "python3"
  },
  "language_info": {
   "codemirror_mode": {
    "name": "ipython",
    "version": 3
   },
   "file_extension": ".py",
   "mimetype": "text/x-python",
   "name": "python",
   "nbconvert_exporter": "python",
   "pygments_lexer": "ipython3",
   "version": "3.10.10"
  },
  "orig_nbformat": 4
 },
 "nbformat": 4,
 "nbformat_minor": 2
}
