{
  "cells": [
    {
      "cell_type": "code",
      "execution_count": null,
      "metadata": {
        "id": "IkZbjUeva3yu"
      },
      "outputs": [],
      "source": [
        "import pandas as pd\n",
        "from sklearn.linear_model import LogisticRegression\n",
        "from sklearn.tree import DecisionTreeClassifier\n",
        "from sklearn.neighbors import KNeighborsClassifier\n",
        "from sklearn.discriminant_analysis import LinearDiscriminantAnalysis\n",
        "from sklearn.naive_bayes import GaussianNB\n",
        "from sklearn.neural_network import MLPClassifier\n",
        "from sklearn.svm import SVC"
      ]
    },
    {
      "cell_type": "code",
      "source": [
        "# file paths to mex on Colab\n",
        "data_file = \"sample_data/mex.csv\""
      ],
      "metadata": {
        "id": "ghh5jaA3dx4P"
      },
      "execution_count": null,
      "outputs": []
    },
    {
      "cell_type": "code",
      "execution_count": null,
      "metadata": {
        "id": "uCxHCEara3yy"
      },
      "outputs": [],
      "source": [
        "# read all data\n",
        "data = pd.read_csv(data_file, header=None)\n",
        "seed =100 #useful for random generators\n",
        "print(data.shape)\n",
        "data.head()"
      ]
    },
    {
      "cell_type": "markdown",
      "source": [
        "# Accessing different parts of the collected data"
      ],
      "metadata": {
        "id": "9B5_sLmVdPOv"
      }
    },
    {
      "cell_type": "code",
      "execution_count": null,
      "metadata": {
        "id": "1iuBd6Rta3yz",
        "outputId": "cd4a40f7-235b-4c92-ae6c-b66c3951e822",
        "colab": {
          "base_uri": "https://localhost:8080/"
        }
      },
      "outputs": [
        {
          "output_type": "stream",
          "name": "stdout",
          "text": [
            "(6312,)\n"
          ]
        }
      ],
      "source": [
        "# extract class labels from data\n",
        "y = data.iloc[:, 873]\n",
        "print(y.shape)"
      ]
    },
    {
      "cell_type": "code",
      "execution_count": null,
      "metadata": {
        "id": "iKVoDCeua3yz",
        "outputId": "32e3f0af-346b-4eaf-e3dc-331efb3e1fcb",
        "colab": {
          "base_uri": "https://localhost:8080/"
        }
      },
      "outputs": [
        {
          "output_type": "stream",
          "name": "stdout",
          "text": [
            "(6312,)\n"
          ]
        }
      ],
      "source": [
        "#extract person IDs\n",
        "id = data.iloc[:, 0]\n",
        "print(id.shape)"
      ]
    },
    {
      "cell_type": "code",
      "execution_count": null,
      "metadata": {
        "id": "Uf-tQXTBa3yz",
        "outputId": "993d5516-d576-4b66-e270-7925850f7b36",
        "colab": {
          "base_uri": "https://localhost:8080/"
        }
      },
      "outputs": [
        {
          "output_type": "stream",
          "name": "stdout",
          "text": [
            "(6312, 180)\n"
          ]
        }
      ],
      "source": [
        "# extract features from wrist accelerometer data\n",
        "acw_x = data.iloc[:, 1:181]\n",
        "print(acw_x.shape)"
      ]
    },
    {
      "cell_type": "code",
      "execution_count": null,
      "metadata": {
        "id": "Hu69gIs1a3y0",
        "outputId": "c406d8e2-d125-4295-ed23-1717a6a23656",
        "colab": {
          "base_uri": "https://localhost:8080/"
        }
      },
      "outputs": [
        {
          "output_type": "stream",
          "name": "stdout",
          "text": [
            "(6312, 180)\n"
          ]
        }
      ],
      "source": [
        "# extract features from thigh accelerometer data\n",
        "act_x = data.iloc[:, 181:361]\n",
        "print(act_x.shape)"
      ]
    },
    {
      "cell_type": "code",
      "execution_count": null,
      "metadata": {
        "id": "R7sSh4vxa3y0",
        "outputId": "77a7d288-ce04-4017-84b8-7a103cad5611",
        "colab": {
          "base_uri": "https://localhost:8080/"
        }
      },
      "outputs": [
        {
          "output_type": "stream",
          "name": "stdout",
          "text": [
            "(6312, 512)\n"
          ]
        }
      ],
      "source": [
        "# extract features from pressure mat data\n",
        "pm_x = data.iloc[:, 361:873]\n",
        "print(pm_x.shape)"
      ]
    },
    {
      "cell_type": "code",
      "execution_count": null,
      "metadata": {
        "id": "10K1SwQFa3y2",
        "outputId": "d27cceee-1de0-45ef-a20e-f714ea835932",
        "colab": {
          "base_uri": "https://localhost:8080/"
        }
      },
      "outputs": [
        {
          "output_type": "stream",
          "name": "stdout",
          "text": [
            "(6312, 360)\n"
          ]
        }
      ],
      "source": [
        "# extract wrist and thigh accelerometer data\n",
        "wt_x = data.iloc[:, 1:361]\n",
        "print(wt_x.shape)"
      ]
    },
    {
      "cell_type": "code",
      "execution_count": null,
      "metadata": {
        "id": "D6MRgk24a3y2",
        "outputId": "8350312a-62e6-4dd9-e90c-8830e8284cd9",
        "colab": {
          "base_uri": "https://localhost:8080/"
        }
      },
      "outputs": [
        {
          "output_type": "stream",
          "name": "stdout",
          "text": [
            "(6312, 872)\n"
          ]
        }
      ],
      "source": [
        "# extract wrist, thigh and pressure mat data\n",
        "wtp_x = data.iloc[:, 1:873]\n",
        "print(wtp_x.shape)"
      ]
    },
    {
      "cell_type": "code",
      "execution_count": null,
      "metadata": {
        "id": "05VGu7WJa3y3"
      },
      "outputs": [],
      "source": [
        "# a few examples of models - keras learners can also be explored\n",
        "models = []\n",
        "models.append(('LR', LogisticRegression()))\n",
        "models.append(('LDA', LinearDiscriminantAnalysis()))\n",
        "models.append(('KNN', KNeighborsClassifier(n_neighbors=5, weights='distance')))\n",
        "models.append(('CART', DecisionTreeClassifier()))\n",
        "models.append(('NB', GaussianNB()))\n",
        "models.append(('SVM', SVC(kernel='rbf', gamma=0.7, C=1.0)))\n",
        "models.append(('ANN', MLPClassifier()))"
      ]
    },
    {
      "cell_type": "markdown",
      "source": [
        "# 2.1 Evaluate the role of sensors on classification"
      ],
      "metadata": {
        "id": "j2u-VqFOnJyZ"
      }
    },
    {
      "cell_type": "code",
      "execution_count": null,
      "metadata": {
        "id": "cAHJxxQ4a3y3"
      },
      "outputs": [],
      "source": [
        "print('Running algorithms for wrist accelerometer data...')\n",
        "\n",
        "# complete code here"
      ]
    },
    {
      "cell_type": "code",
      "execution_count": null,
      "metadata": {
        "id": "aNq3Sxmha3y4"
      },
      "outputs": [],
      "source": [
        "print('Running algorithms for thigh accelerometer data...')\n",
        "\n",
        "# complete code here"
      ]
    },
    {
      "cell_type": "code",
      "execution_count": null,
      "metadata": {
        "id": "2Lv9q1rta3y4"
      },
      "outputs": [],
      "source": [
        "print('Running algorithms for pressure mat data...')\n",
        "\n",
        "# complete code here"
      ]
    },
    {
      "cell_type": "code",
      "execution_count": null,
      "metadata": {
        "id": "PKp4NS7Aa3y4"
      },
      "outputs": [],
      "source": [
        "print('Running algorithms for wrist and thigh accelerometer data and pressure mat data...')\n",
        "#\n",
        "\n",
        "\n",
        "# complete code here"
      ]
    },
    {
      "cell_type": "markdown",
      "source": [
        "# 2.2 Evaluate the role of persons data on classification"
      ],
      "metadata": {
        "id": "p2LoXLlgn_N4"
      }
    },
    {
      "cell_type": "code",
      "source": [
        "#print all unique person Ids\n",
        "data[0].unique()"
      ],
      "metadata": {
        "id": "BMG_X-K1qynV"
      },
      "execution_count": null,
      "outputs": []
    },
    {
      "cell_type": "code",
      "execution_count": null,
      "metadata": {
        "id": "UWPN3rCka3y5"
      },
      "outputs": [],
      "source": [
        "#helper function to split data by Leave-One-Person-Out\n",
        "def lopo_split(df, indices=[], test_person=None):\n",
        "    if test_person == None:\n",
        "        print(\"Need test person id\")\n",
        "        return\n",
        "    if len(indices) == 0 | len(indices)>2 | indices[0]<1 | indices[1]>872 | indices[0]>indices[1]:\n",
        "        print(\"Need valid indices\")\n",
        "        return\n",
        "\n",
        "    train_df = df[df[0]!=test_person]\n",
        "    test_df = df[df[0]==test_person]\n",
        "    X_train = train_df.iloc[:, indices[0]:indices[1]].to_numpy()\n",
        "    X_test = test_df.iloc[:, indices[0]:indices[1]].to_numpy()\n",
        "    y_train = train_df.iloc[:, 873].to_numpy()\n",
        "    y_test = test_df.iloc[:, 873].to_numpy()\n",
        "\n",
        "    return X_train, X_test, y_train, y_test\n",
        ""
      ]
    },
    {
      "cell_type": "code",
      "source": [
        "#testing helper method\n",
        "#indicies indicate the sensor or sensors needed\n",
        "X_train, X_test, y_train, y_test = lopo_split(data, indices=[1, 181], test_person=1)\n",
        "print(X_train.shape)\n",
        "print(X_test.shape)\n",
        "print(y_train.shape)\n",
        "print(y_test.shape)"
      ],
      "metadata": {
        "id": "qPgBesFjsD87"
      },
      "execution_count": null,
      "outputs": []
    },
    {
      "cell_type": "code",
      "source": [
        "print('Running algorithms for wrist accelerometer data...')\n",
        "\n",
        "# complete code here"
      ],
      "metadata": {
        "id": "1F9uebCW2gP2"
      },
      "execution_count": null,
      "outputs": []
    },
    {
      "cell_type": "code",
      "source": [
        "print('Running algorithms for thigh accelerometer data...')\n",
        "\n",
        "# complete code here"
      ],
      "metadata": {
        "id": "0GMSYpVg2j5s"
      },
      "execution_count": null,
      "outputs": []
    },
    {
      "cell_type": "code",
      "source": [
        "print('Running algorithms for pressure mat data...')\n",
        "\n",
        "# complete code here"
      ],
      "metadata": {
        "id": "xkrXFkI22j8S"
      },
      "execution_count": null,
      "outputs": []
    },
    {
      "cell_type": "code",
      "source": [
        "print('Running algorithms for wrist and thigh accelerometer data and pressure mat data...')\n",
        "\n",
        "# complete code here"
      ],
      "metadata": {
        "id": "ci426TWF2j-i"
      },
      "execution_count": null,
      "outputs": []
    },
    {
      "cell_type": "code",
      "source": [],
      "metadata": {
        "id": "kwdrX5ot2kAk"
      },
      "execution_count": null,
      "outputs": []
    }
  ],
  "metadata": {
    "kernelspec": {
      "display_name": "Python 3",
      "language": "python",
      "name": "python3"
    },
    "language_info": {
      "codemirror_mode": {
        "name": "ipython",
        "version": 3
      },
      "file_extension": ".py",
      "mimetype": "text/x-python",
      "name": "python",
      "nbconvert_exporter": "python",
      "pygments_lexer": "ipython3",
      "version": "3.7.4"
    },
    "colab": {
      "provenance": []
    }
  },
  "nbformat": 4,
  "nbformat_minor": 0
}